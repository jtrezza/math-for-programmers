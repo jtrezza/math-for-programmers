{
 "cells": [
  {
   "cell_type": "code",
   "execution_count": 2,
   "id": "fbcd65ab",
   "metadata": {},
   "outputs": [],
   "source": [
    "from math import sin, cos\n",
    "def to_cartesian(polar_vector):\n",
    "    length, angle = polar_vector[0], polar_vector[1]\n",
    "    return (length*cos(angle), length*sin(angle))"
   ]
  },
  {
   "cell_type": "code",
   "execution_count": 3,
   "id": "ac7c70ad",
   "metadata": {},
   "outputs": [
    {
     "data": {
      "text/plain": [
       "(3.993177550236464, 3.0090751157602416)"
      ]
     },
     "execution_count": 3,
     "metadata": {},
     "output_type": "execute_result"
    }
   ],
   "source": [
    "from math import pi\n",
    "def deg_to_radians(deg):\n",
    "    return pi / 180 * deg\n",
    "\n",
    "to_cartesian((5, deg_to_radians(37)))"
   ]
  },
  {
   "cell_type": "code",
   "execution_count": 4,
   "id": "7c14254f",
   "metadata": {},
   "outputs": [
    {
     "data": {
      "text/plain": [
       "57.29577951308232"
      ]
     },
     "execution_count": 4,
     "metadata": {},
     "output_type": "execute_result"
    }
   ],
   "source": [
    "def radians_to_deg(rad):\n",
    "    return 180 / pi * rad\n",
    "radians_to_deg(1)"
   ]
  },
  {
   "cell_type": "code",
   "execution_count": 5,
   "id": "4e31a527",
   "metadata": {},
   "outputs": [
    {
     "data": {
      "text/plain": [
       "(3.605551275463989, 2.158798930342464)"
      ]
     },
     "execution_count": 5,
     "metadata": {},
     "output_type": "execute_result"
    }
   ],
   "source": [
    "from math import sqrt, asin, atan2\n",
    "def length(v):\n",
    "    return sqrt(v[0]**2 + v[1]**2)\n",
    "\n",
    "def to_polar(cartesian_vector):\n",
    "    v_length = length(cartesian_vector)\n",
    "    # atan2 accepts cartesian coordinates in reverse order\n",
    "    return (v_length, atan2(cartesian_vector[1], cartesian_vector[0]))\n",
    "    # asin doesn't give the exact answer\n",
    "    # return (v_length, asin(cartesian_vector[1]/v_length))\n",
    "    \n",
    "to_polar((-2, 3))"
   ]
  },
  {
   "cell_type": "code",
   "execution_count": 6,
   "id": "78d52c5c",
   "metadata": {},
   "outputs": [
    {
     "data": {
      "text/plain": [
       "123.69006752597979"
      ]
     },
     "execution_count": 6,
     "metadata": {},
     "output_type": "execute_result"
    }
   ],
   "source": [
    "l, angle = to_polar((-2, 3))\n",
    "radians_to_deg(angle)"
   ]
  },
  {
   "cell_type": "code",
   "execution_count": 7,
   "id": "36c954af",
   "metadata": {},
   "outputs": [
    {
     "data": {
      "text/plain": [
       "0.8320502943378437"
      ]
     },
     "execution_count": 7,
     "metadata": {},
     "output_type": "execute_result"
    }
   ],
   "source": [
    "# En teoría, este sería el seno del ángulo\n",
    "3/sqrt(13)"
   ]
  },
  {
   "cell_type": "code",
   "execution_count": 8,
   "id": "55b05c63",
   "metadata": {},
   "outputs": [
    {
     "data": {
      "text/plain": [
       "0.8329212407100995"
      ]
     },
     "execution_count": 8,
     "metadata": {},
     "output_type": "execute_result"
    }
   ],
   "source": [
    "# Intento manual de conseguir el ángulo, tanteando\n",
    "sin(deg_to_radians(123.6))"
   ]
  },
  {
   "cell_type": "code",
   "execution_count": 9,
   "id": "a7e878ef",
   "metadata": {},
   "outputs": [
    {
     "data": {
      "text/plain": [
       "(2.9963310898497184, 2.0344439357957027)"
      ]
     },
     "execution_count": 9,
     "metadata": {},
     "output_type": "execute_result"
    }
   ],
   "source": [
    "# Exercises\n",
    "to_polar((-1.34, 2.68))"
   ]
  },
  {
   "cell_type": "code",
   "execution_count": 10,
   "id": "7f399600",
   "metadata": {},
   "outputs": [
    {
     "name": "stdout",
     "output_type": "stream",
     "text": [
      "0.4\n"
     ]
    },
    {
     "data": {
      "text/plain": [
       "0.4040262258351568"
      ]
     },
     "execution_count": 10,
     "metadata": {},
     "output_type": "execute_result"
    }
   ],
   "source": [
    "from math import tan\n",
    "print(5.2/13)\n",
    "tan(deg_to_radians(22))"
   ]
  },
  {
   "cell_type": "code",
   "execution_count": 11,
   "id": "7dfb52b4",
   "metadata": {},
   "outputs": [
    {
     "data": {
      "text/plain": [
       "(11.979532650709393, 9.027225347280725)"
      ]
     },
     "execution_count": 11,
     "metadata": {},
     "output_type": "execute_result"
    }
   ],
   "source": [
    "to_cartesian((15, deg_to_radians(37)))"
   ]
  },
  {
   "cell_type": "code",
   "execution_count": 12,
   "id": "117d7aa0",
   "metadata": {},
   "outputs": [
    {
     "data": {
      "text/plain": [
       "(-4.875399708983893, 6.962792376456429)"
      ]
     },
     "execution_count": 12,
     "metadata": {},
     "output_type": "execute_result"
    }
   ],
   "source": [
    "(cos(deg_to_radians(125))*8.5, sin(deg_to_radians(125))*8.5)"
   ]
  },
  {
   "cell_type": "code",
   "execution_count": 13,
   "id": "13d52815",
   "metadata": {},
   "outputs": [
    {
     "data": {
      "text/plain": [
       "0.8660254037844386"
      ]
     },
     "execution_count": 13,
     "metadata": {},
     "output_type": "execute_result"
    }
   ],
   "source": [
    "sqrt(3)/2"
   ]
  },
  {
   "cell_type": "code",
   "execution_count": 14,
   "id": "7dde4f0a",
   "metadata": {},
   "outputs": [
    {
     "data": {
      "text/plain": [
       "0.8660254037844386"
      ]
     },
     "execution_count": 14,
     "metadata": {},
     "output_type": "execute_result"
    }
   ],
   "source": [
    "sin(deg_to_radians(60))"
   ]
  },
  {
   "cell_type": "code",
   "execution_count": 15,
   "id": "febaa02b",
   "metadata": {},
   "outputs": [
    {
     "data": {
      "text/plain": [
       "0.643"
      ]
     },
     "execution_count": 15,
     "metadata": {},
     "output_type": "execute_result"
    }
   ],
   "source": [
    "0.643/1"
   ]
  },
  {
   "cell_type": "code",
   "execution_count": 16,
   "id": "bdc73aba",
   "metadata": {},
   "outputs": [
    {
     "data": {
      "text/plain": [
       "(0.6427876096865394, 0.766044443118978)"
      ]
     },
     "execution_count": 16,
     "metadata": {},
     "output_type": "execute_result"
    }
   ],
   "source": [
    "to_cartesian((1, deg_to_radians(50)))"
   ]
  },
  {
   "cell_type": "code",
   "execution_count": 17,
   "id": "eb5b3d0e",
   "metadata": {},
   "outputs": [
    {
     "data": {
      "text/plain": [
       "0.8320502943378437"
      ]
     },
     "execution_count": 17,
     "metadata": {},
     "output_type": "execute_result"
    }
   ],
   "source": [
    "3/sqrt(13)"
   ]
  },
  {
   "cell_type": "code",
   "execution_count": 18,
   "id": "8da4c007",
   "metadata": {},
   "outputs": [
    {
     "data": {
      "text/plain": [
       "0.838670567945424"
      ]
     },
     "execution_count": 18,
     "metadata": {},
     "output_type": "execute_result"
    }
   ],
   "source": [
    "sin(deg_to_radians(123))"
   ]
  },
  {
   "cell_type": "code",
   "execution_count": 19,
   "id": "7961d56b",
   "metadata": {},
   "outputs": [
    {
     "data": {
      "image/png": "[encoded data removed]",
      "text/plain": [
       "<Figure size 432x365.538 with 1 Axes>"
      ]
     },
     "metadata": {
      "needs_background": "light"
     },
     "output_type": "display_data"
    }
   ],
   "source": [
    "from vector_drawing import *\n",
    "\n",
    "dino_vectors = [(6,4), (3,1), (1,2), (-1,5), (-2,5), (-3,4), (-4,4), (-5,3),\n",
    "                (-5,2),(-2,2), (-5,1), (-4,0), (-2,1), (-1,0), (0,-3), (-1,-4),\n",
    "                (1,-4), (2,-3), (1,-2), (3,-1), (5,1)\n",
    "                ]\n",
    "\n",
    "draw(\n",
    "    Points(*dino_vectors),\n",
    "    Polygon(*dino_vectors)\n",
    ")"
   ]
  },
  {
   "cell_type": "code",
   "execution_count": 20,
   "id": "62f9a334",
   "metadata": {},
   "outputs": [
    {
     "data": {
      "image/png": "[encoded data removed]",
      "text/plain": [
       "<Figure size 432x432 with 1 Axes>"
      ]
     },
     "metadata": {
      "needs_background": "light"
     },
     "output_type": "display_data"
    }
   ],
   "source": [
    "rotation_angle = pi/4\n",
    "dino_polar = [to_polar(v) for v in dino_vectors]\n",
    "dino_rotated_polar = [(l, angle + rotation_angle) for l, angle in dino_polar]\n",
    "dino_rotated = [to_cartesian(v) for v in dino_rotated_polar]\n",
    "draw(\n",
    "    Polygon(*dino_vectors, color=gray),\n",
    "    Polygon(*dino_rotated, color=red)\n",
    ")"
   ]
  },
  {
   "cell_type": "code",
   "execution_count": 21,
   "id": "dc36be2b",
   "metadata": {},
   "outputs": [],
   "source": [
    "def regular_polygon(n):\n",
    "    return [to_cartesian((1, 2*pi*k/n)) for k in range(0,n)]"
   ]
  },
  {
   "cell_type": "code",
   "execution_count": 26,
   "id": "81bd8c2d",
   "metadata": {},
   "outputs": [
    {
     "data": {
      "image/png": "[encoded data removed]",
      "text/plain": [
       "<Figure size 432x432 with 1 Axes>"
      ]
     },
     "metadata": {
      "needs_background": "light"
     },
     "output_type": "display_data"
    }
   ],
   "source": [
    "draw(\n",
    "    Polygon(*regular_polygon(5))\n",
    ")"
   ]
  },
  {
   "cell_type": "code",
   "execution_count": null,
   "id": "05aaffc1",
   "metadata": {},
   "outputs": [],
   "source": []
  }
 ],
 "metadata": {
  "kernelspec": {
   "display_name": "Python 3 (ipykernel)",
   "language": "python",
   "name": "python3"
  },
  "language_info": {
   "codemirror_mode": {
    "name": "ipython",
    "version": 3
   },
   "file_extension": ".py",
   "mimetype": "text/x-python",
   "name": "python",
   "nbconvert_exporter": "python",
   "pygments_lexer": "ipython3",
   "version": "3.9.7"
  }
 },
 "nbformat": 4,
 "nbformat_minor": 5
}
